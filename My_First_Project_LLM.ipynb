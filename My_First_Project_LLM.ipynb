{
  "nbformat": 4,
  "nbformat_minor": 0,
  "metadata": {
    "colab": {
      "provenance": [],
      "authorship_tag": "ABX9TyOSjVd/LQ6J91vl91oPKycj",
      "include_colab_link": true
    },
    "kernelspec": {
      "name": "python3",
      "display_name": "Python 3"
    },
    "language_info": {
      "name": "python"
    }
  },
  "cells": [
    {
      "cell_type": "markdown",
      "metadata": {
        "id": "view-in-github",
        "colab_type": "text"
      },
      "source": [
        "<a href=\"https://colab.research.google.com/github/MicaelSantanaa/FirstGeminiApiProject/blob/main/My_First_Project_LLM.ipynb\" target=\"_parent\"><img src=\"https://colab.research.google.com/assets/colab-badge.svg\" alt=\"Open In Colab\"/></a>"
      ]
    },
    {
      "cell_type": "code",
      "execution_count": null,
      "metadata": {
        "id": "Hhw6qjId8nXU"
      },
      "outputs": [],
      "source": [
        "!pip install -q -U google-generativeai"
      ]
    },
    {
      "cell_type": "code",
      "source": [
        "# Import the Python SDK\n",
        "import google.generativeai as genai\n",
        "from google.colab import userdata\n",
        "api_key = userdata.get(\"SECRET_KEY\")\n",
        "genai.configure(api_key=api_key)"
      ],
      "metadata": {
        "id": "S67gVmn9EKDA"
      },
      "execution_count": null,
      "outputs": []
    },
    {
      "cell_type": "markdown",
      "source": [
        "Lista os modelos disponíveis"
      ],
      "metadata": {
        "id": "5625-lbtEfUX"
      }
    },
    {
      "cell_type": "code",
      "source": [
        "for m in genai.list_models():\n",
        "  if 'generateContent' in m.supported_generation_methods:\n",
        "    print(m.name)"
      ],
      "metadata": {
        "colab": {
          "base_uri": "https://localhost:8080/",
          "height": 139
        },
        "id": "c6MflSnJESs1",
        "outputId": "3f8eeba0-4ff5-402b-942e-d4b3319513be"
      },
      "execution_count": null,
      "outputs": [
        {
          "output_type": "stream",
          "name": "stdout",
          "text": [
            "models/gemini-1.0-pro\n",
            "models/gemini-1.0-pro-001\n",
            "models/gemini-1.0-pro-latest\n",
            "models/gemini-1.0-pro-vision-latest\n",
            "models/gemini-1.5-pro-latest\n",
            "models/gemini-pro\n",
            "models/gemini-pro-vision\n"
          ]
        }
      ]
    },
    {
      "cell_type": "code",
      "source": [
        "generation_config = {\n",
        "    \"candidate_count\": 1,\n",
        "    \"temperature\":0.5,\n",
        "}"
      ],
      "metadata": {
        "id": "dzBwJUuQG8eT"
      },
      "execution_count": null,
      "outputs": []
    },
    {
      "cell_type": "code",
      "source": [
        "safety_settings = {\n",
        "    \"HARASSMENT\": \"BLOCK_NONE\",\n",
        "    \"HATE\": \"BLOCK_NONE\",\n",
        "    \"SEXUAL\": \"BLOCK_NONE\",\n",
        "    \"DANGEROUS\": \"BLOCK_NONE\",\n",
        "}"
      ],
      "metadata": {
        "id": "YUaF9P4eHwej"
      },
      "execution_count": null,
      "outputs": []
    },
    {
      "cell_type": "markdown",
      "source": [
        "Inicializando o modelo"
      ],
      "metadata": {
        "id": "6s5_faMCQeDf"
      }
    },
    {
      "cell_type": "code",
      "source": [
        "model = genai.GenerativeModel(model_name=\"gemini-1.0-pro\",\n",
        "                              generation_config=generation_config,\n",
        "                              safety_settings=safety_settings)"
      ],
      "metadata": {
        "id": "9TgASs7jQACO"
      },
      "execution_count": null,
      "outputs": []
    },
    {
      "cell_type": "code",
      "source": [
        "response = model.generate_content(\"Descreva como são formados os desertos\")\n",
        "print(response.text)"
      ],
      "metadata": {
        "colab": {
          "base_uri": "https://localhost:8080/",
          "height": 488
        },
        "id": "3Lfv6QuER5l9",
        "outputId": "c22df6b5-982c-4d0a-de15-a897b9364d9d"
      },
      "execution_count": null,
      "outputs": [
        {
          "output_type": "stream",
          "name": "stdout",
          "text": [
            "**Formação de Desertos**\n",
            "\n",
            "Os desertos são ecossistemas áridos que recebem pouca precipitação (menos de 250 mm por ano). Eles são formados por uma combinação de fatores climáticos e geográficos:\n",
            "\n",
            "**1. Localização:**\n",
            "\n",
            "* **Latitude:** Os desertos são comumente encontrados entre as latitudes 15° e 30° em ambos os hemisférios, onde a circulação atmosférica cria zonas de subsidência (ar descendente).\n",
            "* **Distância de corpos d'água:** Desertos são frequentemente formados em locais distantes de grandes corpos d'água, como oceanos ou lagos, que podem fornecer umidade.\n",
            "\n",
            "**2. Circulação Atmosférica:**\n",
            "\n",
            "* **Células de Hadley:** A circulação global da atmosfera cria células de Hadley, que são zonas de alta pressão nos trópicos. O ar nessas células desce, tornando-se quente e seco, o que inibe a formação de nuvens e precipitação.\n",
            "* **Ventos alísios:** Em algumas regiões, os ventos alísios transportam ar seco do oceano para a terra, criando condições áridas.\n",
            "\n",
            "**3. Topografia:**\n",
            "\n",
            "* **Barreiras montanhosas:** As montanhas podem bloquear a passagem de nuvens carregadas de umidade, criando uma sombra de chuva no lado de sotavento.\n",
            "* **Bacias fechadas:** Bacias fechadas, como o Vale da Morte, não têm saída para a água, o que leva à evaporação e ao acúmulo de sais.\n",
            "\n",
            "**4. Outros Fatores:**\n",
            "\n",
            "* **Correntes oceânicas:** As correntes oceânicas frias podem resfriar o ar acima delas, reduzindo a evaporação e a formação de nuvens.\n",
            "* **Solo:** Solos arenosos e rochosos têm baixa capacidade de retenção de água, contribuindo para a aridez.\n",
            "* **Vegetação:** A falta de vegetação reduz a transpiração e a evaporação, diminuindo ainda mais a umidade.\n",
            "\n",
            "Quando esses fatores se combinam, eles criam condições que impedem a formação de precipitação e levam ao desenvolvimento de desertos.\n"
          ]
        }
      ]
    },
    {
      "cell_type": "code",
      "source": [
        "chat = model.start_chat(history=[])"
      ],
      "metadata": {
        "id": "Ww1fHeVJSjIl"
      },
      "execution_count": null,
      "outputs": []
    },
    {
      "cell_type": "code",
      "source": [
        "prompt = input(\"Esperando prompt:\")\n",
        "while prompt != \"fim\":\n",
        "  response = chat.send_message(prompt)\n",
        "  print(\"Resposta: \", response.text, \"\\n\")\n",
        "  prompt = input(\"Esperando prompt:\")"
      ],
      "metadata": {
        "id": "prT7s3G7TH6t"
      },
      "execution_count": null,
      "outputs": []
    },
    {
      "cell_type": "code",
      "source": [
        "#Melhorando a visualização\n",
        "#Código disponível em https://ai.google.dev/tutorials/python_quickstart#import_packages\n",
        "import textwrap\n",
        "from IPython.display import display\n",
        "from IPython.display import Markdown\n",
        "\n",
        "def to_markdown(text):\n",
        "    text = text.replace('`', '')\n",
        "    return Markdown(textwrap.indent(text, '> ', predicate=lambda _: True))\n",
        "\n",
        "#Imprimindo o histórico\n",
        "for message in chat.history:\n",
        "    display(to_markdown(f\"**{message.role}**: {message.parts[0].text}\"))\n",
        "    print()"
      ],
      "metadata": {
        "colab": {
          "base_uri": "https://localhost:8080/",
          "height": 1000
        },
        "id": "GS57kXL_CO8G",
        "outputId": "8cc958f2-79cc-49ab-a490-69ab7f6fdded"
      },
      "execution_count": null,
      "outputs": [
        {
          "output_type": "display_data",
          "data": {
            "text/plain": [
              "<IPython.core.display.Markdown object>"
            ],
            "text/markdown": "> **user**: escreva duas estrofes de um poema sobre o estilo de jogo do futebol brasileiro"
          },
          "metadata": {}
        },
        {
          "output_type": "stream",
          "name": "stdout",
          "text": [
            "\n"
          ]
        },
        {
          "output_type": "display_data",
          "data": {
            "text/plain": [
              "<IPython.core.display.Markdown object>"
            ],
            "text/markdown": "> **model**: **Estrofe 1**\n> \n> Com ginga e malícia, o samba no pé,\n> O futebol brasileiro é um show para se ver.\n> Dribles desconcertantes, passes precisos,\n> Um espetáculo de habilidade que nos deixa extasiados.\n> \n> **Estrofe 2**\n> \n> A bola dança nos pés, um balé de movimentos,\n> Cada toque é uma obra de arte, um encantamento.\n> O jogo flui como água, sem pressa ou hesitação,\n> Um ritmo único, uma paixão sem igual, a essência do futebol brasileiro."
          },
          "metadata": {}
        },
        {
          "output_type": "stream",
          "name": "stdout",
          "text": [
            "\n"
          ]
        },
        {
          "output_type": "display_data",
          "data": {
            "text/plain": [
              "<IPython.core.display.Markdown object>"
            ],
            "text/markdown": "> **user**: rescreva as estrofes adicionando rima no final delas"
          },
          "metadata": {}
        },
        {
          "output_type": "stream",
          "name": "stdout",
          "text": [
            "\n"
          ]
        },
        {
          "output_type": "display_data",
          "data": {
            "text/plain": [
              "<IPython.core.display.Markdown object>"
            ],
            "text/markdown": "> **model**: **Estrofe 1**\n> \n> Com ginga e malícia, o samba no pé,\n> O futebol brasileiro é um show para se ver.\n> Dribles desconcertantes, passes precisos,\n> Um espetáculo de habilidade que nos deixa extasiados, surpresos.\n> \n> **Estrofe 2**\n> \n> A bola dança nos pés, um balé de movimentos,\n> Cada toque é uma obra de arte, um encantamento.\n> O jogo flui como água, sem pressa ou hesitação,\n> Um ritmo único, uma paixão sem igual, a essência do futebol brasileiro, a nossa nação."
          },
          "metadata": {}
        },
        {
          "output_type": "stream",
          "name": "stdout",
          "text": [
            "\n"
          ]
        },
        {
          "output_type": "display_data",
          "data": {
            "text/plain": [
              "<IPython.core.display.Markdown object>"
            ],
            "text/markdown": "> **user**: qual data de hoje"
          },
          "metadata": {}
        },
        {
          "output_type": "stream",
          "name": "stdout",
          "text": [
            "\n"
          ]
        },
        {
          "output_type": "display_data",
          "data": {
            "text/plain": [
              "<IPython.core.display.Markdown object>"
            ],
            "text/markdown": "> **model**: **1 de março de 2023**"
          },
          "metadata": {}
        },
        {
          "output_type": "stream",
          "name": "stdout",
          "text": [
            "\n"
          ]
        },
        {
          "output_type": "display_data",
          "data": {
            "text/plain": [
              "<IPython.core.display.Markdown object>"
            ],
            "text/markdown": "> **user**: data errada"
          },
          "metadata": {}
        },
        {
          "output_type": "stream",
          "name": "stdout",
          "text": [
            "\n"
          ]
        },
        {
          "output_type": "display_data",
          "data": {
            "text/plain": [
              "<IPython.core.display.Markdown object>"
            ],
            "text/markdown": "> **model**: Sinto muito, você está correto. A data de hoje é **2 de março de 2023**.\n> \n> Eu ainda estou em desenvolvimento e às vezes cometo erros. Agradeço por me corrigir e me ajudar a aprender."
          },
          "metadata": {}
        },
        {
          "output_type": "stream",
          "name": "stdout",
          "text": [
            "\n"
          ]
        },
        {
          "output_type": "display_data",
          "data": {
            "text/plain": [
              "<IPython.core.display.Markdown object>"
            ],
            "text/markdown": "> **user**: a data correta é 13 de maio de 2024"
          },
          "metadata": {}
        },
        {
          "output_type": "stream",
          "name": "stdout",
          "text": [
            "\n"
          ]
        },
        {
          "output_type": "display_data",
          "data": {
            "text/plain": [
              "<IPython.core.display.Markdown object>"
            ],
            "text/markdown": "> **model**: Você está correto, a data correta é **13 de maio de 2024**.\n> \n> Obrigado por me corrigir. Eu ainda estou em desenvolvimento e às vezes cometo erros. Agradeço por me ajudar a aprender."
          },
          "metadata": {}
        },
        {
          "output_type": "stream",
          "name": "stdout",
          "text": [
            "\n"
          ]
        },
        {
          "output_type": "display_data",
          "data": {
            "text/plain": [
              "<IPython.core.display.Markdown object>"
            ],
            "text/markdown": "> **user**: Qual é a capital do Japão"
          },
          "metadata": {}
        },
        {
          "output_type": "stream",
          "name": "stdout",
          "text": [
            "\n"
          ]
        },
        {
          "output_type": "display_data",
          "data": {
            "text/plain": [
              "<IPython.core.display.Markdown object>"
            ],
            "text/markdown": "> **model**: **Tóquio**"
          },
          "metadata": {}
        },
        {
          "output_type": "stream",
          "name": "stdout",
          "text": [
            "\n"
          ]
        },
        {
          "output_type": "display_data",
          "data": {
            "text/plain": [
              "<IPython.core.display.Markdown object>"
            ],
            "text/markdown": "> **user**: qual a comida típica desse país"
          },
          "metadata": {}
        },
        {
          "output_type": "stream",
          "name": "stdout",
          "text": [
            "\n"
          ]
        },
        {
          "output_type": "display_data",
          "data": {
            "text/plain": [
              "<IPython.core.display.Markdown object>"
            ],
            "text/markdown": "> **model**: **Sushi**"
          },
          "metadata": {}
        },
        {
          "output_type": "stream",
          "name": "stdout",
          "text": [
            "\n"
          ]
        }
      ]
    }
  ]
}